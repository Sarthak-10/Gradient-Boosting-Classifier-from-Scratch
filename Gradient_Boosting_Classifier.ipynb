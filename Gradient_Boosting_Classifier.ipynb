{
  "nbformat": 4,
  "nbformat_minor": 0,
  "metadata": {
    "colab": {
      "name": "Gradient Boosting Classifier.ipynb",
      "provenance": [],
      "collapsed_sections": []
    },
    "kernelspec": {
      "name": "python3",
      "display_name": "Python 3"
    },
    "language_info": {
      "name": "python"
    },
    "accelerator": "GPU",
    "gpuClass": "standard"
  },
  "cells": [
    {
      "cell_type": "code",
      "execution_count": 49,
      "metadata": {
        "colab": {
          "base_uri": "https://localhost:8080/"
        },
        "id": "dUYKjZT7g_Ja",
        "outputId": "9f7b4423-164a-40b2-e969-828d872dfe94"
      },
      "outputs": [
        {
          "output_type": "stream",
          "name": "stdout",
          "text": [
            "Drive already mounted at /content/gdrive; to attempt to forcibly remount, call drive.mount(\"/content/gdrive\", force_remount=True).\n"
          ]
        }
      ],
      "source": [
        "from google.colab import drive\n",
        "drive.mount(\"/content/gdrive\")"
      ]
    },
    {
      "cell_type": "markdown",
      "source": [
        "**Implementation of Gradient Boosting Classifier on MNIST Dataset from scratch**"
      ],
      "metadata": {
        "id": "gPw82i1O3tgY"
      }
    },
    {
      "cell_type": "markdown",
      "source": [
        "Extracting the MNIST dataset"
      ],
      "metadata": {
        "id": "yiq4XS7F4Xp9"
      }
    },
    {
      "cell_type": "code",
      "source": [
        "! cp /content/gdrive/MyDrive/SML_Assignment-4/mnist.zip .\n",
        "! unzip mnist.zip -d mnist/"
      ],
      "metadata": {
        "colab": {
          "base_uri": "https://localhost:8080/"
        },
        "id": "sGkTYwx3hIzp",
        "outputId": "64542c6b-4315-46a1-c85f-7de7f58941e9"
      },
      "execution_count": 2,
      "outputs": [
        {
          "output_type": "stream",
          "name": "stdout",
          "text": [
            "Archive:  mnist.zip\n",
            "   creating: mnist/mnist/\n",
            "  inflating: mnist/mnist/readme.txt  \n",
            "  inflating: mnist/mnist/train-labels-idx1-ubyte.gz  \n",
            "  inflating: mnist/mnist/train-images-idx3-ubyte.gz  \n",
            "  inflating: mnist/mnist/t10k-images-idx3-ubyte.gz  \n",
            "  inflating: mnist/mnist/t10k-labels-idx1-ubyte.gz  \n"
          ]
        }
      ]
    },
    {
      "cell_type": "code",
      "source": [
        "import numpy as np\n",
        "import matplotlib.pyplot as plt"
      ],
      "metadata": {
        "id": "jZauRqabhQJN"
      },
      "execution_count": 3,
      "outputs": []
    },
    {
      "cell_type": "markdown",
      "source": [
        "Visualizing one image of the MNIST Dataset"
      ],
      "metadata": {
        "id": "mKDHzuUB4cPD"
      }
    },
    {
      "cell_type": "code",
      "source": [
        "import gzip\n",
        "def images_file_read(file_name):\n",
        "    with gzip.open(file_name, 'r') as f:\n",
        "        # first 4 bytes is a magic number\n",
        "        magic_number = int.from_bytes(f.read(4), 'big')\n",
        "        # second 4 bytes is the number of images\n",
        "        image_count = int.from_bytes(f.read(4), 'big')\n",
        "        # third 4 bytes is the row count\n",
        "        row_count = int.from_bytes(f.read(4), 'big')\n",
        "        # fourth 4 bytes is the column count\n",
        "        column_count = int.from_bytes(f.read(4), 'big')\n",
        "        # rest is the image pixel data, each pixel is stored as an unsigned byte\n",
        "        # pixel values are 0 to 255\n",
        "        image_data = f.read()\n",
        "        images = np.frombuffer(image_data, dtype=np.uint8)\\\n",
        "            .reshape((image_count, row_count, column_count))\n",
        "        return images\n",
        "def labels_file_read(file_name):\n",
        "    with gzip.open(file_name, 'r') as f:\n",
        "        # first 4 bytes is a magic number\n",
        "        magic_number = int.from_bytes(f.read(4), 'big')\n",
        "        # second 4 bytes is the number of labels\n",
        "        label_count = int.from_bytes(f.read(4), 'big')\n",
        "        # rest is the label data, each label is stored as unsigned byte\n",
        "        # label values are 0 to 9\n",
        "        label_data = f.read()\n",
        "        labels = np.frombuffer(label_data, dtype=np.uint8)\n",
        "        return labels\n",
        "train_x2 = images_file_read(\"mnist/mnist/train-images-idx3-ubyte.gz\")\n",
        "print(train_x2.shape)\n",
        "train_y2 = labels_file_read(\"mnist/mnist/train-labels-idx1-ubyte.gz\")\n",
        "test_x2 = images_file_read(\"mnist/mnist/t10k-images-idx3-ubyte.gz\")\n",
        "print(test_x2.shape)\n",
        "test_y2 = labels_file_read(\"mnist/mnist/t10k-labels-idx1-ubyte.gz\")\n",
        "plt.imshow(train_x2[0])\n",
        "print(\"Label :\" ,  train_y2[0])"
      ],
      "metadata": {
        "colab": {
          "base_uri": "https://localhost:8080/",
          "height": 319
        },
        "id": "JtlcGzMAhRwT",
        "outputId": "87adef87-3bba-41f8-a6ad-615f16b3c840"
      },
      "execution_count": 4,
      "outputs": [
        {
          "output_type": "stream",
          "name": "stdout",
          "text": [
            "(60000, 28, 28)\n",
            "(10000, 28, 28)\n",
            "Label : 5\n"
          ]
        },
        {
          "output_type": "display_data",
          "data": {
            "text/plain": [
              "<Figure size 432x288 with 1 Axes>"
            ],
            "image/png": "[encoded data removed]"
          },
          "metadata": {
            "needs_background": "light"
          }
        }
      ]
    },
    {
      "cell_type": "code",
      "source": [
        "print(train_x2.shape)\n",
        "print(test_x2.shape)\n",
        "print(train_y2.shape)\n",
        "print(test_y2.shape)"
      ],
      "metadata": {
        "colab": {
          "base_uri": "https://localhost:8080/"
        },
        "id": "enQmVt71hVNZ",
        "outputId": "e2a97e0a-cce8-4b9b-876a-65f4314390eb"
      },
      "execution_count": 5,
      "outputs": [
        {
          "output_type": "stream",
          "name": "stdout",
          "text": [
            "(60000, 28, 28)\n",
            "(10000, 28, 28)\n",
            "(60000,)\n",
            "(10000,)\n"
          ]
        }
      ]
    },
    {
      "cell_type": "markdown",
      "source": [
        "Normalizing and then centralizing the dataset"
      ],
      "metadata": {
        "id": "TMPmymC7H0OK"
      }
    },
    {
      "cell_type": "code",
      "source": [
        "train_x = (train_x2 / 255) - 0.5\n",
        "test_x = (test_x2 / 255) - 0.5"
      ],
      "metadata": {
        "id": "97mE6wdKhYyG"
      },
      "execution_count": 6,
      "outputs": []
    },
    {
      "cell_type": "code",
      "source": [
        "train_x = train_x.reshape((-1, 784))\n",
        "test_x = test_x.reshape((-1, 784))"
      ],
      "metadata": {
        "id": "y7cG9Xw9hb5N"
      },
      "execution_count": 7,
      "outputs": []
    },
    {
      "cell_type": "markdown",
      "source": [
        "The first prediction is the mean.From here on we will minimize the error at each step from the mean model"
      ],
      "metadata": {
        "id": "GgOStWiJJAeT"
      }
    },
    {
      "cell_type": "code",
      "source": [
        "pred1 = np.mean(train_y2)"
      ],
      "metadata": {
        "id": "uvun2wJPheko"
      },
      "execution_count": 8,
      "outputs": []
    },
    {
      "cell_type": "markdown",
      "source": [
        "Calculating error from the first prediction"
      ],
      "metadata": {
        "id": "rqgM68XMJErS"
      }
    },
    {
      "cell_type": "code",
      "source": [
        "res1 = train_y2 - pred1"
      ],
      "metadata": {
        "id": "gnF6E-vfhx5p"
      },
      "execution_count": 9,
      "outputs": []
    },
    {
      "cell_type": "code",
      "source": [
        "res1"
      ],
      "metadata": {
        "colab": {
          "base_uri": "https://localhost:8080/"
        },
        "id": "IriwTgg0iJj4",
        "outputId": "3b6a1fbc-1e05-4488-d124-9afda18567d4"
      },
      "execution_count": 10,
      "outputs": [
        {
          "output_type": "execute_result",
          "data": {
            "text/plain": [
              "array([ 0.54606667, -4.45393333, -0.45393333, ...,  0.54606667,\n",
              "        1.54606667,  3.54606667])"
            ]
          },
          "metadata": {},
          "execution_count": 10
        }
      ]
    },
    {
      "cell_type": "code",
      "source": [
        "from sklearn.tree import DecisionTreeRegressor"
      ],
      "metadata": {
        "id": "rB3JGeyZirtM"
      },
      "execution_count": 11,
      "outputs": []
    },
    {
      "cell_type": "code",
      "source": [
        "regressorList = list()"
      ],
      "metadata": {
        "id": "BoF1RVIX3pKd"
      },
      "execution_count": 12,
      "outputs": []
    },
    {
      "cell_type": "code",
      "source": [
        "regressor = DecisionTreeRegressor(max_depth = 1)"
      ],
      "metadata": {
        "id": "QIVDTaBri6ZB"
      },
      "execution_count": 13,
      "outputs": []
    },
    {
      "cell_type": "code",
      "source": [
        "regressorList.append(regressor)"
      ],
      "metadata": {
        "id": "5ug13bt53tCE"
      },
      "execution_count": 14,
      "outputs": []
    },
    {
      "cell_type": "markdown",
      "source": [
        "We fit the decision tree on the error between the first prediction and the actual output"
      ],
      "metadata": {
        "id": "y0iI7bq9NC6R"
      }
    },
    {
      "cell_type": "code",
      "source": [
        "regressor.fit(train_x,res1)"
      ],
      "metadata": {
        "colab": {
          "base_uri": "https://localhost:8080/"
        },
        "id": "-td81owVjfIU",
        "outputId": "1e540ee5-402c-4ddf-c95f-10cb70badfab"
      },
      "execution_count": 15,
      "outputs": [
        {
          "output_type": "execute_result",
          "data": {
            "text/plain": [
              "DecisionTreeRegressor(max_depth=1)"
            ]
          },
          "metadata": {},
          "execution_count": 15
        }
      ]
    },
    {
      "cell_type": "code",
      "source": [
        "pred2 = regressor.predict(train_x)"
      ],
      "metadata": {
        "id": "Pg2xDXNqkDSD"
      },
      "execution_count": 16,
      "outputs": []
    },
    {
      "cell_type": "code",
      "source": [
        "train_x.shape"
      ],
      "metadata": {
        "colab": {
          "base_uri": "https://localhost:8080/"
        },
        "id": "7d4oQcUylZg9",
        "outputId": "083edfcc-4fd1-4d19-deab-a315069e8e24"
      },
      "execution_count": 17,
      "outputs": [
        {
          "output_type": "execute_result",
          "data": {
            "text/plain": [
              "(60000, 784)"
            ]
          },
          "metadata": {},
          "execution_count": 17
        }
      ]
    },
    {
      "cell_type": "code",
      "source": [
        "pred2"
      ],
      "metadata": {
        "colab": {
          "base_uri": "https://localhost:8080/"
        },
        "id": "q5dse709lUSl",
        "outputId": "2d43a01e-1555-4d2e-ab4c-6f28da2a340e"
      },
      "execution_count": 18,
      "outputs": [
        {
          "output_type": "execute_result",
          "data": {
            "text/plain": [
              "array([ 0.91320399, -1.82846423,  0.91320399, ...,  0.91320399,\n",
              "        0.91320399,  0.91320399])"
            ]
          },
          "metadata": {},
          "execution_count": 18
        }
      ]
    },
    {
      "cell_type": "code",
      "source": [
        "pred2.shape"
      ],
      "metadata": {
        "colab": {
          "base_uri": "https://localhost:8080/"
        },
        "id": "t_hS5vKSlgPE",
        "outputId": "035cfacc-8f49-4e7b-e5ee-4732402298a6"
      },
      "execution_count": 19,
      "outputs": [
        {
          "output_type": "execute_result",
          "data": {
            "text/plain": [
              "(60000,)"
            ]
          },
          "metadata": {},
          "execution_count": 19
        }
      ]
    },
    {
      "cell_type": "code",
      "source": [
        "learning_rate = 0.1"
      ],
      "metadata": {
        "id": "vUBVMWdQl3uK"
      },
      "execution_count": 20,
      "outputs": []
    },
    {
      "cell_type": "markdown",
      "source": [
        "pred_f2 denotes the second prediction which is improved from the initial prediction "
      ],
      "metadata": {
        "id": "sx2mhfgQNaRp"
      }
    },
    {
      "cell_type": "code",
      "source": [
        "pred_f2 = pred1 + learning_rate*pred2"
      ],
      "metadata": {
        "id": "D2oM9sUllkUh"
      },
      "execution_count": 21,
      "outputs": []
    },
    {
      "cell_type": "code",
      "source": [
        "res3 = train_y2 - pred_f2"
      ],
      "metadata": {
        "id": "8TIBp5L8l78P"
      },
      "execution_count": 22,
      "outputs": []
    },
    {
      "cell_type": "code",
      "source": [
        "res3"
      ],
      "metadata": {
        "colab": {
          "base_uri": "https://localhost:8080/"
        },
        "id": "1DBQXSJ_nxH-",
        "outputId": "b5177880-421b-4548-956a-c085d57de2a5"
      },
      "execution_count": 23,
      "outputs": [
        {
          "output_type": "execute_result",
          "data": {
            "text/plain": [
              "array([ 0.45474627, -4.27108691, -0.54525373, ...,  0.45474627,\n",
              "        1.45474627,  3.45474627])"
            ]
          },
          "metadata": {},
          "execution_count": 23
        }
      ]
    },
    {
      "cell_type": "markdown",
      "source": [
        "Again we fit the decision tree on the error between the second prediction and the  actual output"
      ],
      "metadata": {
        "id": "Adt71pWNNt7F"
      }
    },
    {
      "cell_type": "code",
      "source": [
        "regressor.fit(train_x,res3)"
      ],
      "metadata": {
        "colab": {
          "base_uri": "https://localhost:8080/"
        },
        "id": "gjX8z_Zxn0_f",
        "outputId": "5f727206-ab49-4c67-dda2-eea245a0f67d"
      },
      "execution_count": 24,
      "outputs": [
        {
          "output_type": "execute_result",
          "data": {
            "text/plain": [
              "DecisionTreeRegressor(max_depth=1)"
            ]
          },
          "metadata": {},
          "execution_count": 24
        }
      ]
    },
    {
      "cell_type": "code",
      "source": [
        "regressorList.append(regressor)"
      ],
      "metadata": {
        "id": "DadA32gn31kG"
      },
      "execution_count": 25,
      "outputs": []
    },
    {
      "cell_type": "code",
      "source": [
        "pred3 = regressor.predict(train_x)"
      ],
      "metadata": {
        "id": "uOv7-fBWoI-4"
      },
      "execution_count": 26,
      "outputs": []
    },
    {
      "cell_type": "markdown",
      "source": [
        "pred_f3 denotes the third prediction which is again better than the second one"
      ],
      "metadata": {
        "id": "YCBp04LmN7eJ"
      }
    },
    {
      "cell_type": "code",
      "source": [
        "pred_f3 = pred1 + learning_rate*pred2 + learning_rate*pred3 "
      ],
      "metadata": {
        "id": "CiZzEWalowXv"
      },
      "execution_count": 27,
      "outputs": []
    },
    {
      "cell_type": "markdown",
      "source": [
        "Similarly, we keep on obtaining errors between the prediction and the actual output.Train a decision tree on the errors.Then improve our prediction by adding the new prediction of the residual error multiplied by the leaning rate to the previous prediction .We do this procedure till the error becomes less than a certain threshold."
      ],
      "metadata": {
        "id": "oRlBjDssOJXl"
      }
    },
    {
      "cell_type": "code",
      "source": [
        "res4 = train_y2 - pred_f3"
      ],
      "metadata": {
        "id": "_m2rYbIgv6Kt"
      },
      "execution_count": 28,
      "outputs": []
    },
    {
      "cell_type": "code",
      "source": [
        "res4"
      ],
      "metadata": {
        "colab": {
          "base_uri": "https://localhost:8080/"
        },
        "id": "ZoZTIQHxv_gz",
        "outputId": "88e7eeb0-65c3-436c-9ab1-0ebd86123efa"
      },
      "execution_count": 29,
      "outputs": [
        {
          "output_type": "execute_result",
          "data": {
            "text/plain": [
              "array([ 0.37255791, -4.10652513, -0.62744209, ...,  0.37255791,\n",
              "        1.37255791,  3.37255791])"
            ]
          },
          "metadata": {},
          "execution_count": 29
        }
      ]
    },
    {
      "cell_type": "code",
      "source": [
        "regressor.fit(train_x,res4)"
      ],
      "metadata": {
        "colab": {
          "base_uri": "https://localhost:8080/"
        },
        "id": "OSNxfhBv0Car",
        "outputId": "d91c190c-ba62-400a-caeb-a1cd6ee2c2f3"
      },
      "execution_count": 30,
      "outputs": [
        {
          "output_type": "execute_result",
          "data": {
            "text/plain": [
              "DecisionTreeRegressor(max_depth=1)"
            ]
          },
          "metadata": {},
          "execution_count": 30
        }
      ]
    },
    {
      "cell_type": "code",
      "source": [
        "regressorList.append(regressor)"
      ],
      "metadata": {
        "id": "0KSnKTuA335A"
      },
      "execution_count": 31,
      "outputs": []
    },
    {
      "cell_type": "code",
      "source": [
        "pred4 = regressor.predict(train_x)"
      ],
      "metadata": {
        "id": "O__s96M30HbN"
      },
      "execution_count": 32,
      "outputs": []
    },
    {
      "cell_type": "code",
      "source": [
        "pred_f4 = pred1 + learning_rate*pred2 + learning_rate*pred3 + learning_rate*pred4"
      ],
      "metadata": {
        "id": "TPE7lSVE0MhP"
      },
      "execution_count": 33,
      "outputs": []
    },
    {
      "cell_type": "code",
      "source": [
        "res5 = train_y2 - pred_f4"
      ],
      "metadata": {
        "id": "YshCIKV90u71"
      },
      "execution_count": 34,
      "outputs": []
    },
    {
      "cell_type": "code",
      "source": [
        "res5"
      ],
      "metadata": {
        "colab": {
          "base_uri": "https://localhost:8080/"
        },
        "id": "TsBALsmz00Sf",
        "outputId": "ee84e5cc-63d2-429a-e612-4bcdabb6d78e"
      },
      "execution_count": 35,
      "outputs": [
        {
          "output_type": "execute_result",
          "data": {
            "text/plain": [
              "array([ 0.29797995, -3.95727968, -0.70202005, ...,  0.29797995,\n",
              "        1.52180336,  3.29797995])"
            ]
          },
          "metadata": {},
          "execution_count": 35
        }
      ]
    },
    {
      "cell_type": "code",
      "source": [
        "regressor.fit(train_x,res5)"
      ],
      "metadata": {
        "colab": {
          "base_uri": "https://localhost:8080/"
        },
        "id": "Yi4ntD0A04th",
        "outputId": "74f62c6b-54b8-434b-e26e-7c1b21592328"
      },
      "execution_count": 36,
      "outputs": [
        {
          "output_type": "execute_result",
          "data": {
            "text/plain": [
              "DecisionTreeRegressor(max_depth=1)"
            ]
          },
          "metadata": {},
          "execution_count": 36
        }
      ]
    },
    {
      "cell_type": "code",
      "source": [
        "regressorList.append(regressor)"
      ],
      "metadata": {
        "id": "O1NpBiyy39Ez"
      },
      "execution_count": 37,
      "outputs": []
    },
    {
      "cell_type": "code",
      "source": [
        "pred5 = regressor.predict(train_x)"
      ],
      "metadata": {
        "id": "AyWWrdLq08bT"
      },
      "execution_count": 38,
      "outputs": []
    },
    {
      "cell_type": "code",
      "source": [
        "pred_f5 = pred1 + learning_rate*pred2 + learning_rate*pred3 + learning_rate*pred4 + learning_rate*pred5"
      ],
      "metadata": {
        "id": "312x4kL-1Inn"
      },
      "execution_count": 39,
      "outputs": []
    },
    {
      "cell_type": "code",
      "source": [
        "pred_f5"
      ],
      "metadata": {
        "colab": {
          "base_uri": "https://localhost:8080/"
        },
        "id": "In2lxfSu_Q_F",
        "outputId": "f4319622-0187-4510-a965-2998491f6e08"
      },
      "execution_count": 40,
      "outputs": [
        {
          "output_type": "execute_result",
          "data": {
            "text/plain": [
              "array([4.76853931, 3.80931293, 4.76853931, ..., 4.76853931, 4.54471591,\n",
              "       4.76853931])"
            ]
          },
          "metadata": {},
          "execution_count": 40
        }
      ]
    },
    {
      "cell_type": "code",
      "source": [
        "regressorList"
      ],
      "metadata": {
        "colab": {
          "base_uri": "https://localhost:8080/"
        },
        "id": "xY22hHjf4qFA",
        "outputId": "3cca07b4-380d-498e-b5dc-fd8589346742"
      },
      "execution_count": 41,
      "outputs": [
        {
          "output_type": "execute_result",
          "data": {
            "text/plain": [
              "[DecisionTreeRegressor(max_depth=1),\n",
              " DecisionTreeRegressor(max_depth=1),\n",
              " DecisionTreeRegressor(max_depth=1),\n",
              " DecisionTreeRegressor(max_depth=1)]"
            ]
          },
          "metadata": {},
          "execution_count": 41
        }
      ]
    },
    {
      "cell_type": "code",
      "source": [
        "prediction = np.mean(test_x)\n",
        "for i in range(4):\n",
        "  prediction = prediction + learning_rate*regressorList[i].predict(test_x)"
      ],
      "metadata": {
        "id": "N3A9sX6d4twZ"
      },
      "execution_count": 42,
      "outputs": []
    },
    {
      "cell_type": "code",
      "source": [
        "prediction"
      ],
      "metadata": {
        "colab": {
          "base_uri": "https://localhost:8080/"
        },
        "id": "nX0Yk1bK54b6",
        "outputId": "9cd1eca4-43ad-4aac-ab1f-107dca5a5607"
      },
      "execution_count": 43,
      "outputs": [
        {
          "output_type": "execute_result",
          "data": {
            "text/plain": [
              "array([-0.10140835, -0.95935239, -0.95935239, ..., -0.10140835,\n",
              "       -0.10140835, -0.10140835])"
            ]
          },
          "metadata": {},
          "execution_count": 43
        }
      ]
    },
    {
      "cell_type": "markdown",
      "source": [
        "Here a method is defined to do the repititive process of gradient descent.It accepts the training data,learning rate and the number of iterations as the input and returns a list containing the final prediction as its first element and a list containing all the intermediate decision tree models as the second element."
      ],
      "metadata": {
        "id": "WJ2w5K_VPdWU"
      }
    },
    {
      "cell_type": "code",
      "source": [
        "def gradient_boosting(train_x,train_y,iter,learning_rate):\n",
        "  flag=0\n",
        "  pred_list = list()\n",
        "  mu = -1e10\n",
        "  pred = -1e10\n",
        "  regressorList = list()\n",
        "  mu = np.mean(train_y)\n",
        "  pred = mu\n",
        "  for i in range(iter):\n",
        "    res = train_y - pred\n",
        "    regressor = DecisionTreeRegressor(max_depth = 1)\n",
        "    regressorList.append(regressor)\n",
        "    regressor.fit(train_x,res)\n",
        "    pred_inter = regressor.predict(train_x)\n",
        "    pred_list.append(pred_inter)\n",
        "    pred = mu \n",
        "\n",
        "    for j in range(i):\n",
        "      pred = pred + learning_rate*pred_list[j]\n",
        "      \n",
        "  return [pred,regressorList]"
      ],
      "metadata": {
        "id": "t-d7Un9pwDXs"
      },
      "execution_count": 44,
      "outputs": []
    },
    {
      "cell_type": "markdown",
      "source": [
        "Here reg_list is the list containing all the intermediate decision tree models"
      ],
      "metadata": {
        "id": "5-Tv_0UK1YL_"
      }
    },
    {
      "cell_type": "code",
      "source": [
        "reg_list = gradient_boosting(train_x,train_y2,5,0.1)[1]"
      ],
      "metadata": {
        "id": "AB47Or7Hy3ey"
      },
      "execution_count": 45,
      "outputs": []
    },
    {
      "cell_type": "markdown",
      "source": [
        "The below method \"predictor\" finds the prediction for a test sample"
      ],
      "metadata": {
        "id": "TG8y1HnQ10Ho"
      }
    },
    {
      "cell_type": "code",
      "source": [
        "def predictor(test_x,lr,regr_list,iter):\n",
        "  prediction = np.mean(test_x)\n",
        "  for i in range(iter):\n",
        "    prediction = prediction + lr*regr_list[i].predict(test_x)\n",
        "  return prediction"
      ],
      "metadata": {
        "id": "HU5YnG_hACTC"
      },
      "execution_count": 46,
      "outputs": []
    },
    {
      "cell_type": "code",
      "source": [
        "pred = np.rint(predictor(test_x,0.1,reg_list,5))"
      ],
      "metadata": {
        "id": "6PjjmkhJAekl"
      },
      "execution_count": 47,
      "outputs": []
    },
    {
      "cell_type": "code",
      "source": [
        "from sklearn.metrics import accuracy_score\n",
        "accuracy_score(test_y2,pred)"
      ],
      "metadata": {
        "colab": {
          "base_uri": "https://localhost:8080/"
        },
        "id": "xlNSM2hnCVHp",
        "outputId": "12c7de21-ac36-47d6-e67b-007e263901df"
      },
      "execution_count": 48,
      "outputs": [
        {
          "output_type": "execute_result",
          "data": {
            "text/plain": [
              "0.0144"
            ]
          },
          "metadata": {},
          "execution_count": 48
        }
      ]
    }
  ]
}